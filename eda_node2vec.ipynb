{
 "cells": [
  {
   "cell_type": "code",
   "execution_count": 1,
   "metadata": {},
   "outputs": [],
   "source": [
    "import numpy as np\n",
    "import pandas as pd\n",
    "from tqdm import tqdm\n",
    "import matplotlib.pyplot as plt\n",
    "import seaborn as sns\n",
    "import pickle"
   ]
  },
  {
   "cell_type": "code",
   "execution_count": 2,
   "metadata": {},
   "outputs": [
    {
     "name": "stdout",
     "output_type": "stream",
     "text": [
      "CPU times: user 3.34 s, sys: 565 ms, total: 3.91 s\n",
      "Wall time: 3.77 s\n"
     ]
    }
   ],
   "source": [
    "%%time\n",
    "np.random.seed(174)\n",
    "edges = pd.read_csv('edges.csv')\n",
    "ids = pd.read_csv('ids.csv')\n",
    "vertices = pd.read_csv('vertices.csv')\n",
    "vertices['main_okved'] = vertices['main_okved'].astype(str)\n",
    "vertices = vertices.set_index('id')"
   ]
  },
  {
   "cell_type": "markdown",
   "metadata": {},
   "source": [
    "## Exploratory data analysis"
   ]
  },
  {
   "cell_type": "code",
   "execution_count": 3,
   "metadata": {},
   "outputs": [],
   "source": [
    "vert_stats = pd.merge(edges.id_1.value_counts(), edges.id_2.value_counts(), left_index=True, right_index=True, how='outer').fillna(0)\n",
    "vert_stats['power'] = vert_stats['id_1'] + vert_stats['id_2']\n",
    "vertices = pd.merge(vertices, vert_stats['power'], left_index=True, right_index=True, how='outer').fillna(0)"
   ]
  },
  {
   "cell_type": "code",
   "execution_count": 4,
   "metadata": {},
   "outputs": [
    {
     "data": {
      "text/html": [
       "<div>\n",
       "<style scoped>\n",
       "    .dataframe tbody tr th:only-of-type {\n",
       "        vertical-align: middle;\n",
       "    }\n",
       "\n",
       "    .dataframe tbody tr th {\n",
       "        vertical-align: top;\n",
       "    }\n",
       "\n",
       "    .dataframe thead tr th {\n",
       "        text-align: left;\n",
       "    }\n",
       "\n",
       "    .dataframe thead tr:last-of-type th {\n",
       "        text-align: right;\n",
       "    }\n",
       "</style>\n",
       "<table border=\"1\" class=\"dataframe\">\n",
       "  <thead>\n",
       "    <tr>\n",
       "      <th></th>\n",
       "      <th colspan=\"2\" halign=\"left\">value</th>\n",
       "      <th colspan=\"2\" halign=\"left\">n_transactions</th>\n",
       "    </tr>\n",
       "    <tr>\n",
       "      <th></th>\n",
       "      <th>mean</th>\n",
       "      <th>median</th>\n",
       "      <th>mean</th>\n",
       "      <th>median</th>\n",
       "    </tr>\n",
       "    <tr>\n",
       "      <th>id_1</th>\n",
       "      <th></th>\n",
       "      <th></th>\n",
       "      <th></th>\n",
       "      <th></th>\n",
       "    </tr>\n",
       "  </thead>\n",
       "  <tbody>\n",
       "    <tr>\n",
       "      <td>1</td>\n",
       "      <td>373907.924027</td>\n",
       "      <td>373907.924027</td>\n",
       "      <td>1.000000</td>\n",
       "      <td>1.000000</td>\n",
       "    </tr>\n",
       "    <tr>\n",
       "      <td>2</td>\n",
       "      <td>464659.927278</td>\n",
       "      <td>464659.927278</td>\n",
       "      <td>93.874744</td>\n",
       "      <td>93.874744</td>\n",
       "    </tr>\n",
       "    <tr>\n",
       "      <td>3</td>\n",
       "      <td>478866.322798</td>\n",
       "      <td>478866.322798</td>\n",
       "      <td>207.791701</td>\n",
       "      <td>207.791701</td>\n",
       "    </tr>\n",
       "    <tr>\n",
       "      <td>4</td>\n",
       "      <td>340297.565750</td>\n",
       "      <td>323833.016533</td>\n",
       "      <td>151.152045</td>\n",
       "      <td>1.000000</td>\n",
       "    </tr>\n",
       "    <tr>\n",
       "      <td>5</td>\n",
       "      <td>394605.971982</td>\n",
       "      <td>410382.392687</td>\n",
       "      <td>133.873719</td>\n",
       "      <td>93.874744</td>\n",
       "    </tr>\n",
       "    <tr>\n",
       "      <td>...</td>\n",
       "      <td>...</td>\n",
       "      <td>...</td>\n",
       "      <td>...</td>\n",
       "      <td>...</td>\n",
       "    </tr>\n",
       "    <tr>\n",
       "      <td>1532726</td>\n",
       "      <td>304254.776513</td>\n",
       "      <td>304254.776513</td>\n",
       "      <td>80.997950</td>\n",
       "      <td>80.997950</td>\n",
       "    </tr>\n",
       "    <tr>\n",
       "      <td>1533068</td>\n",
       "      <td>344378.140883</td>\n",
       "      <td>344378.140883</td>\n",
       "      <td>1.000000</td>\n",
       "      <td>1.000000</td>\n",
       "    </tr>\n",
       "    <tr>\n",
       "      <td>1533321</td>\n",
       "      <td>376692.491055</td>\n",
       "      <td>376692.491055</td>\n",
       "      <td>1.000000</td>\n",
       "      <td>1.000000</td>\n",
       "    </tr>\n",
       "    <tr>\n",
       "      <td>1534041</td>\n",
       "      <td>448364.213929</td>\n",
       "      <td>448364.213929</td>\n",
       "      <td>277.747437</td>\n",
       "      <td>277.747437</td>\n",
       "    </tr>\n",
       "    <tr>\n",
       "      <td>1534210</td>\n",
       "      <td>191.000000</td>\n",
       "      <td>191.000000</td>\n",
       "      <td>1.000000</td>\n",
       "      <td>1.000000</td>\n",
       "    </tr>\n",
       "  </tbody>\n",
       "</table>\n",
       "<p>1017864 rows × 4 columns</p>\n",
       "</div>"
      ],
      "text/plain": [
       "                 value                n_transactions            \n",
       "                  mean         median           mean      median\n",
       "id_1                                                            \n",
       "1        373907.924027  373907.924027       1.000000    1.000000\n",
       "2        464659.927278  464659.927278      93.874744   93.874744\n",
       "3        478866.322798  478866.322798     207.791701  207.791701\n",
       "4        340297.565750  323833.016533     151.152045    1.000000\n",
       "5        394605.971982  410382.392687     133.873719   93.874744\n",
       "...                ...            ...            ...         ...\n",
       "1532726  304254.776513  304254.776513      80.997950   80.997950\n",
       "1533068  344378.140883  344378.140883       1.000000    1.000000\n",
       "1533321  376692.491055  376692.491055       1.000000    1.000000\n",
       "1534041  448364.213929  448364.213929     277.747437  277.747437\n",
       "1534210     191.000000     191.000000       1.000000    1.000000\n",
       "\n",
       "[1017864 rows x 4 columns]"
      ]
     },
     "execution_count": 4,
     "metadata": {},
     "output_type": "execute_result"
    }
   ],
   "source": [
    "# accomplish this\n",
    "edges.groupby('id_1').agg({'value':['mean', 'median'], 'n_transactions': ['mean', 'median']})"
   ]
  },
  {
   "cell_type": "markdown",
   "metadata": {},
   "source": [
    "### Nodes statistics\n",
    "Boxplot for amount of connections per copmany is something amazing :)"
   ]
  },
  {
   "cell_type": "code",
   "execution_count": 5,
   "metadata": {},
   "outputs": [
    {
     "data": {
      "image/png": "[encoded data removed]",
      "text/plain": [
       "<Figure size 432x288 with 1 Axes>"
      ]
     },
     "metadata": {
      "needs_background": "light"
     },
     "output_type": "display_data"
    }
   ],
   "source": [
    "sns.boxplot(vertices.power);"
   ]
  },
  {
   "cell_type": "markdown",
   "metadata": {},
   "source": [
    "99% of companies in this dataset have less than 76 connection with other companies."
   ]
  },
  {
   "cell_type": "code",
   "execution_count": 6,
   "metadata": {},
   "outputs": [
    {
     "data": {
      "text/html": [
       "<div>\n",
       "<style scoped>\n",
       "    .dataframe tbody tr th:only-of-type {\n",
       "        vertical-align: middle;\n",
       "    }\n",
       "\n",
       "    .dataframe tbody tr th {\n",
       "        vertical-align: top;\n",
       "    }\n",
       "\n",
       "    .dataframe thead th {\n",
       "        text-align: right;\n",
       "    }\n",
       "</style>\n",
       "<table border=\"1\" class=\"dataframe\">\n",
       "  <thead>\n",
       "    <tr style=\"text-align: right;\">\n",
       "      <th></th>\n",
       "      <th>count</th>\n",
       "      <th>mean</th>\n",
       "      <th>std</th>\n",
       "      <th>min</th>\n",
       "      <th>50%</th>\n",
       "      <th>80%</th>\n",
       "      <th>85%</th>\n",
       "      <th>90%</th>\n",
       "      <th>95%</th>\n",
       "      <th>99%</th>\n",
       "      <th>99.5%</th>\n",
       "      <th>99.9%</th>\n",
       "      <th>max</th>\n",
       "    </tr>\n",
       "  </thead>\n",
       "  <tbody>\n",
       "    <tr>\n",
       "      <td>power</td>\n",
       "      <td>1534749.0</td>\n",
       "      <td>6.1</td>\n",
       "      <td>54.3</td>\n",
       "      <td>0.0</td>\n",
       "      <td>2.0</td>\n",
       "      <td>5.0</td>\n",
       "      <td>7.0</td>\n",
       "      <td>10.0</td>\n",
       "      <td>19.0</td>\n",
       "      <td>76.0</td>\n",
       "      <td>124.0</td>\n",
       "      <td>320.0</td>\n",
       "      <td>49733.0</td>\n",
       "    </tr>\n",
       "  </tbody>\n",
       "</table>\n",
       "</div>"
      ],
      "text/plain": [
       "           count  mean   std  min  50%  80%  85%   90%   95%   99%  99.5%  \\\n",
       "power  1534749.0   6.1  54.3  0.0  2.0  5.0  7.0  10.0  19.0  76.0  124.0   \n",
       "\n",
       "       99.9%      max  \n",
       "power  320.0  49733.0  "
      ]
     },
     "execution_count": 6,
     "metadata": {},
     "output_type": "execute_result"
    }
   ],
   "source": [
    "vertices[['power']].describe(percentiles=[0.8, 0.85, 0.9, 0.95, 0.99, 0.995, 0.999], include='all').T.round(1)"
   ]
  },
  {
   "cell_type": "code",
   "execution_count": 7,
   "metadata": {},
   "outputs": [
    {
     "data": {
      "image/png": "[encoded data removed]",
      "text/plain": [
       "<Figure size 1296x432 with 2 Axes>"
      ]
     },
     "metadata": {
      "needs_background": "light"
     },
     "output_type": "display_data"
    }
   ],
   "source": [
    "plt.figure(figsize=(18, 6))\n",
    "plt.subplot(121);\n",
    "plt.title('Distribution of mean amount of connections among companies\\' specialization');\n",
    "sns.distplot(vertices.groupby('main_okved').power.mean(), bins=100);\n",
    "plt.subplot(122);\n",
    "plt.title('Distribution of mean amount of connections among companies\\' region');\n",
    "sns.distplot(vertices.groupby('region_code').power.mean(), bins=30, color='red');"
   ]
  },
  {
   "cell_type": "code",
   "execution_count": 8,
   "metadata": {},
   "outputs": [
    {
     "data": {
      "image/png": "[encoded data removed]",
      "text/plain": [
       "<Figure size 432x288 with 1 Axes>"
      ]
     },
     "metadata": {
      "needs_background": "light"
     },
     "output_type": "display_data"
    }
   ],
   "source": [
    "sns.countplot(x='company_type', data=vertices, palette=\"Pastel1\");"
   ]
  },
  {
   "cell_type": "code",
   "execution_count": 11,
   "metadata": {},
   "outputs": [],
   "source": [
    "import networkx as nx"
   ]
  },
  {
   "cell_type": "code",
   "execution_count": 12,
   "metadata": {},
   "outputs": [],
   "source": [
    "edges_for_graph =  [(x[0], x[1]) for x in edges[['id_1', 'id_2']].itertuples(index=False)]\n",
    "G = nx.Graph()\n",
    "G.add_nodes_from(vertices.index.values)\n",
    "G.add_edges_from(edges_for_graph)"
   ]
  },
  {
   "cell_type": "markdown",
   "metadata": {},
   "source": [
    "Let's check if there are some isolated vertices. "
   ]
  },
  {
   "cell_type": "code",
   "execution_count": 13,
   "metadata": {},
   "outputs": [
    {
     "name": "stdout",
     "output_type": "stream",
     "text": [
      "CPU times: user 528 ms, sys: 6.6 ms, total: 535 ms\n",
      "Wall time: 558 ms\n"
     ]
    },
    {
     "data": {
      "text/plain": [
       "20036"
      ]
     },
     "execution_count": 13,
     "metadata": {},
     "output_type": "execute_result"
    }
   ],
   "source": [
    "%%time\n",
    "nx.number_of_isolates(G)"
   ]
  },
  {
   "cell_type": "markdown",
   "metadata": {},
   "source": [
    "Wow, it's kinda 1.3% of isolated vertices in our graph. Definitely should take a look at it later :) "
   ]
  },
  {
   "cell_type": "markdown",
   "metadata": {},
   "source": [
    "## Link prediction approach"
   ]
  },
  {
   "cell_type": "markdown",
   "metadata": {},
   "source": [
    "We used [this implementation](https://github.com/louisabraham/fastnode2vec) of [Node2Vec](https://arxiv.org/pdf/1607.00653.pdf)"
   ]
  },
  {
   "cell_type": "code",
   "execution_count": null,
   "metadata": {},
   "outputs": [],
   "source": [
    "from fastnode2vec import Graph, Node2Vec\n",
    "import networkx as nx"
   ]
  },
  {
   "cell_type": "code",
   "execution_count": null,
   "metadata": {},
   "outputs": [],
   "source": [
    "%%time\n",
    "edges_for_graph = [(x[0], x[1]) for x in edges[['id_1', 'id_2']].itertuples(index=False)]\n",
    "graph = Graph(edges_for_graph, directed=False)"
   ]
  },
  {
   "cell_type": "code",
   "execution_count": null,
   "metadata": {},
   "outputs": [],
   "source": [
    "%%time\n",
    "n2v = Node2Vec(graph,\n",
    "               dim=256,\n",
    "               walk_length=80,\n",
    "               context=10,\n",
    "               p=1.0,\n",
    "               q=1.0,\n",
    "               workers=8) #may take up to 5 min to initialize"
   ]
  },
  {
   "cell_type": "code",
   "execution_count": null,
   "metadata": {},
   "outputs": [],
   "source": [
    "n2v.train(epochs=25)\n",
    "n2v.save('dim256_wl80_ctx10_pq11_e10.model')"
   ]
  },
  {
   "cell_type": "markdown",
   "metadata": {},
   "source": [
    "You can just load already trained model, instead of waiting up to 10h."
   ]
  },
  {
   "cell_type": "code",
   "execution_count": null,
   "metadata": {},
   "outputs": [],
   "source": [
    "from gensim.models import Word2Vec\n",
    "from sklearn.linear_model import LogisticRegression"
   ]
  },
  {
   "cell_type": "code",
   "execution_count": null,
   "metadata": {},
   "outputs": [],
   "source": [
    "%%time\n",
    "#link to pretrained model https://drive.google.com/drive/folders/1CWVD8a72yn4ZyA28PXfMUKyJw6X4eFiF?usp=sharing\n",
    "n2v = Word2Vec.load('dim256_wl80_ctx10_pq11_e10.model')"
   ]
  },
  {
   "cell_type": "code",
   "execution_count": null,
   "metadata": {},
   "outputs": [],
   "source": [
    "lr = LogisticRegression(#class_weight='balanced',\n",
    "                        random_state=183269,\n",
    "                        solver='liblinear',\n",
    "                        max_iter=500)"
   ]
  },
  {
   "cell_type": "code",
   "execution_count": null,
   "metadata": {},
   "outputs": [],
   "source": [
    "def node_embs_bslike(node_list):\n",
    "    embs = []\n",
    "    for i in node_list:\n",
    "        embs.append(n2v.wv[str(i)])\n",
    "    return np.array(embs).astype(np.float64)"
   ]
  },
  {
   "cell_type": "code",
   "execution_count": 1,
   "metadata": {},
   "outputs": [],
   "source": [
    "def edge_embs_bslike(node, node_list):\n",
    "    embs = []\n",
    "    emb1 = n2v.wv[str(node)]\n",
    "    for id_2 in node_list:\n",
    "        emb2 = n2v.wv[str(id_2)]\n",
    "        edge_emb = np.multiply(emb1, emb2)\n",
    "        embs.append(edge_emb)\n",
    "    embs = np.array(embs).astype(np.float64)\n",
    "    return embs"
   ]
  },
  {
   "cell_type": "code",
   "execution_count": null,
   "metadata": {},
   "outputs": [],
   "source": [
    "result = pd.DataFrame(columns=['id_1', 'id_2', 'preds'])\n",
    "g_idx = vertices.id.isin(np.array(edges_for_graph).flatten()).values"
   ]
  },
  {
   "cell_type": "code",
   "execution_count": null,
   "metadata": {},
   "outputs": [],
   "source": [
    "for i in tqdm(ids.id):\n",
    "    df1 = edges[edges['id_1'] == i].reset_index()\n",
    "    df2 = edges[edges['id_2'] == i].reset_index()\n",
    "    df = df1[['id_2', 'id_1']].rename(columns={'id_1':'id_2', 'id_2':'id_1'}).append(df2[['id_1', 'id_2']])\n",
    "    df['target'] = 1\n",
    "    df = vertices.set_index('id').join(df.set_index('id_1')['target']).fillna(0)\n",
    "    df = df[g_idx]\n",
    "\n",
    "    pos_idx = df[df['target']==1].index.values\n",
    "    neg_idx = np.random.choice(df[df['target']==0].index.values, size=len(pos_idx), replace=False)\n",
    "\n",
    "    train_idx = np.append(pos_idx, neg_idx)\n",
    "    target = df.loc[train_idx, 'target']\n",
    "\n",
    "    test_idx = df[df['target']==0].index.values\n",
    "\n",
    "    \n",
    "    lr.fit(node_embs_bslike(train_idx), target.to_numpy())\n",
    "    #or you can use edge embeddings edge_embs_bslike(i, train_idx) like in paper \n",
    "    \n",
    "    df.loc[test_idx, 'preds'] = lr.predict_proba(node_embs_bslike(test_idx))[:, 1]\n",
    "\n",
    "    df['id_2'] = i\n",
    "    res = df.loc[test_idx, ['id_2', 'preds']].sort_values(by='preds', ascending=False).iloc[:2000].reset_index()[['id', 'id_2', 'preds']]\n",
    "    res.columns = ['id_1', 'id_2', 'preds']\n",
    "    result = result.append(res, ignore_index=True, sort=False)\n",
    "result.to_csv('node2vec_result.csv', index=False)"
   ]
  },
  {
   "cell_type": "code",
   "execution_count": null,
   "metadata": {},
   "outputs": [],
   "source": [
    "embs = {}\n",
    "for i in set(np.array(edges_for_graph).flatten()):\n",
    "    embs[str(i)] = n2v.wv[str(i)]\n",
    "with open('embs.pickle', 'wb') as f:\n",
    "     pickle.dump(embs, f)"
   ]
  }
 ],
 "metadata": {
  "kernelspec": {
   "display_name": "Python 3",
   "language": "python",
   "name": "python3"
  },
  "language_info": {
   "codemirror_mode": {
    "name": "ipython",
    "version": 3
   },
   "file_extension": ".py",
   "mimetype": "text/x-python",
   "name": "python",
   "nbconvert_exporter": "python",
   "pygments_lexer": "ipython3",
   "version": "3.7.4"
  }
 },
 "nbformat": 4,
 "nbformat_minor": 2
}
