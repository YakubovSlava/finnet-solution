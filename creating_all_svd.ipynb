{
 "cells": [
  {
   "cell_type": "code",
   "execution_count": null,
   "metadata": {},
   "outputs": [],
   "source": [
    "import pandas as pd\n",
    "import numpy as np\n",
    "from scipy.sparse import lil_matrix"
   ]
  },
  {
   "cell_type": "code",
   "execution_count": null,
   "metadata": {},
   "outputs": [],
   "source": [
    "vertices = pd.read_csv('vertices.csv')\n",
    "edges = pd.read_csv('edges.csv')\n",
    "ids = pd.read_csv('ids.csv')\n",
    "new_vertices = pd.read_csv('new_vertices.csv')"
   ]
  },
  {
   "cell_type": "code",
   "execution_count": null,
   "metadata": {},
   "outputs": [],
   "source": [
    "def build_matr():\n",
    "    A = lil_matrix((len(vertices), len(vertices)))\n",
    "    for row in edges.values:\n",
    "        A[int(row[0])-1, int(row[1])-1] = 1 \n",
    "        A[int(row[1])-1, int(row[0])-1] = 1 \n",
    "    return(A)"
   ]
  },
  {
   "cell_type": "code",
   "execution_count": null,
   "metadata": {},
   "outputs": [],
   "source": [
    "from sklearn.decomposition import TruncatedSVD"
   ]
  },
  {
   "cell_type": "code",
   "execution_count": null,
   "metadata": {},
   "outputs": [],
   "source": [
    "for i in [400, 450, 475]:\n",
    "    A = 0\n",
    "    A = build_matr()\n",
    "    svd = TruncatedSVD(n_components=i,algorithm='randomized',n_iter=20, random_state=42)\n",
    "    transformed = svd.fit_transform(A)\n",
    "    components = svd.components_\n",
    "    np.save('components'+str(i)+'.npy', components)\n",
    "    np.save('transformed'+str(i)+'.npy', transformed)"
   ]
  }
 ],
 "metadata": {
  "kernelspec": {
   "display_name": "Python 3",
   "language": "python",
   "name": "python3"
  },
  "language_info": {
   "codemirror_mode": {
    "name": "ipython",
    "version": 3
   },
   "file_extension": ".py",
   "mimetype": "text/x-python",
   "name": "python",
   "nbconvert_exporter": "python",
   "pygments_lexer": "ipython3",
   "version": "3.7.2"
  }
 },
 "nbformat": 4,
 "nbformat_minor": 4
}
