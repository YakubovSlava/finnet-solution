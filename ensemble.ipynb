{
  "nbformat": 4,
  "nbformat_minor": 0,
  "metadata": {
    "colab": {
      "name": "ensemble.ipynb",
      "provenance": [],
      "collapsed_sections": []
    },
    "kernelspec": {
      "name": "python3",
      "display_name": "Python 3"
    },
    "accelerator": "GPU"
  },
  "cells": [
    {
      "cell_type": "code",
      "metadata": {
        "id": "-K30vHhNhXlf",
        "colab_type": "code",
        "colab": {}
      },
      "source": [
        "import pandas as pd\n",
        "import numpy as np\n"
      ],
      "execution_count": 0,
      "outputs": []
    },
    {
      "cell_type": "code",
      "metadata": {
        "id": "eRecpXSUhjN5",
        "colab_type": "code",
        "colab": {}
      },
      "source": [
        "cbp = np.load('/content/drive/My Drive/point_hack_2/cat_catboost_probas.npy')\n",
        "gp = np.load('/content/drive/My Drive/point_hack_2/grouped_probas.npy')\n",
        "mep = np.load('/content/drive/My Drive/point_hack_2/mn_enc_probas.npy')\n",
        "nop = np.load('/content/drive/My Drive/point_hack_2/node_probas.npy')"
      ],
      "execution_count": 0,
      "outputs": []
    },
    {
      "cell_type": "code",
      "metadata": {
        "id": "7ufxJCvXiCcp",
        "colab_type": "code",
        "colab": {}
      },
      "source": [
        "edges = pd.read_csv('/content/drive/My Drive/point_hack_2/edges.csv')\n",
        "vertices = pd.read_csv('/content/drive/My Drive/point_hack_2/new_vertices.csv')\n"
      ],
      "execution_count": 0,
      "outputs": []
    },
    {
      "cell_type": "code",
      "metadata": {
        "id": "_BXPYzHYsOUH",
        "colab_type": "code",
        "colab": {}
      },
      "source": [
        "ids = pd.read_csv('/content/drive/My Drive/point_hack_2/ids.csv')"
      ],
      "execution_count": 0,
      "outputs": []
    },
    {
      "cell_type": "code",
      "metadata": {
        "id": "-pG7IRXCnz_n",
        "colab_type": "code",
        "colab": {}
      },
      "source": [
        "all_connections = pd.read_csv('/content/drive/My Drive/point_hack_2/all_connections')"
      ],
      "execution_count": 0,
      "outputs": []
    },
    {
      "cell_type": "code",
      "metadata": {
        "id": "V2dtRA_xqR-l",
        "colab_type": "code",
        "colab": {}
      },
      "source": [
        "index = all_connections.id_1\n",
        "connections = all_connections.connection\n",
        "inc = dict(zip(index, map(eval, connections)))"
      ],
      "execution_count": 0,
      "outputs": []
    },
    {
      "cell_type": "code",
      "metadata": {
        "id": "FKSjNncSjCpj",
        "colab_type": "code",
        "colab": {}
      },
      "source": [
        "from sklearn.linear_model import LogisticRegression"
      ],
      "execution_count": 0,
      "outputs": []
    },
    {
      "cell_type": "code",
      "metadata": {
        "id": "aqApQkE4uVX4",
        "colab_type": "code",
        "colab": {}
      },
      "source": [
        "import xgboost as xgb"
      ],
      "execution_count": 0,
      "outputs": []
    },
    {
      "cell_type": "code",
      "metadata": {
        "id": "ExeWxIFOugme",
        "colab_type": "code",
        "colab": {}
      },
      "source": [
        "import tqdm"
      ],
      "execution_count": 0,
      "outputs": []
    },
    {
      "cell_type": "code",
      "metadata": {
        "id": "GlIqHN3wjJL9",
        "colab_type": "code",
        "outputId": "da08c0c3-86d1-48ee-b56b-f458912cbf50",
        "colab": {
          "base_uri": "https://localhost:8080/",
          "height": 32
        }
      },
      "source": [
        "res = np.zeros((100, 1534749))\n",
        "for i in tqdm.tqdm(range(100)):\n",
        "  indexes = edges[(edges['id_1']==ids.id.iloc[i])|(edges['id_2']==ids.id.iloc[i])].index\n",
        "  right = pd.Series(np.zeros(len(vertices)))\n",
        "  right[pd.Series(inc[ids.id.iloc[i]])-1] = 1\n",
        "  table = pd.DataFrame({'cbp': cbp[i], 'gp':gp[i], 'mep': mep[i], 'target': right})\n",
        "  train = table.drop(columns='target')\n",
        "  target = table['target']\n",
        "  w = table[table.target==0].target.count()/table[table.target==1].target.count()\n",
        "  param_dist = {'max_depth':6, 'n_estimators':500, 'n_jobs':-1, 'random_state': 42, 'lambda': 0.2, 'scale_pos_weight':w}\n",
        "  clf = xgb.XGBClassifier(**param_dist,tree_method='gpu_hist', gpu_id=0)\n",
        "\n",
        "  \n",
        "  # clf = LogisticRegression(random_state=42, solver = 'liblinear')\n",
        "  clf.fit(train, target)\n",
        "  q = clf.predict_proba(train)\n",
        "  res[i] = q[:, 1]"
      ],
      "execution_count": 0,
      "outputs": [
        {
          "output_type": "stream",
          "text": [
            "100%|██████████| 100/100 [13:18<00:00,  7.99s/it]\n"
          ],
          "name": "stderr"
        }
      ]
    },
    {
      "cell_type": "code",
      "metadata": {
        "id": "K4nguXGlkogG",
        "colab_type": "code",
        "colab": {}
      },
      "source": [
        "np.save('/content/drive/My Drive/point_hack_2/xgb65.npy', res, allow_pickle=True)"
      ],
      "execution_count": 0,
      "outputs": []
    },
    {
      "cell_type": "code",
      "metadata": {
        "id": "BwSxvOMXls9u",
        "colab_type": "code",
        "colab": {}
      },
      "source": [
        ""
      ],
      "execution_count": 0,
      "outputs": []
    },
    {
      "cell_type": "code",
      "metadata": {
        "id": "6M8N62hAl-Pb",
        "colab_type": "code",
        "colab": {}
      },
      "source": [
        ""
      ],
      "execution_count": 0,
      "outputs": []
    },
    {
      "cell_type": "code",
      "metadata": {
        "id": "GQAgDlgpml6n",
        "colab_type": "code",
        "colab": {}
      },
      "source": [
        ""
      ],
      "execution_count": 0,
      "outputs": []
    },
    {
      "cell_type": "code",
      "metadata": {
        "id": "4l0aKHLknbic",
        "colab_type": "code",
        "colab": {}
      },
      "source": [
        ""
      ],
      "execution_count": 0,
      "outputs": []
    },
    {
      "cell_type": "code",
      "metadata": {
        "id": "6HGlqp19nmBZ",
        "colab_type": "code",
        "colab": {}
      },
      "source": [
        ""
      ],
      "execution_count": 0,
      "outputs": []
    },
    {
      "cell_type": "code",
      "metadata": {
        "id": "iMUARC_yntKp",
        "colab_type": "code",
        "colab": {}
      },
      "source": [
        ""
      ],
      "execution_count": 0,
      "outputs": []
    },
    {
      "cell_type": "code",
      "metadata": {
        "id": "74CdaVVwpJZz",
        "colab_type": "code",
        "colab": {}
      },
      "source": [
        ""
      ],
      "execution_count": 0,
      "outputs": []
    }
  ]
}