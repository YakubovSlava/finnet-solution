{
 "cells": [
  {
   "cell_type": "code",
   "execution_count": 0,
   "metadata": {
    "colab": {},
    "colab_type": "code",
    "id": "-K30vHhNhXlf"
   },
   "outputs": [],
   "source": [
    "import pandas as pd\n",
    "import numpy as np\n"
   ]
  },
  {
   "cell_type": "code",
   "execution_count": 0,
   "metadata": {
    "colab": {},
    "colab_type": "code",
    "id": "eRecpXSUhjN5"
   },
   "outputs": [],
   "source": [
    "cbp = np.load('cat_catboost_probas.npy')\n",
    "gp = np.load('grouped_probas.npy')\n",
    "mep = np.load('mn_enc_probas.npy')\n",
    "nop = np.load('node_probas.npy')"
   ]
  },
  {
   "cell_type": "code",
   "execution_count": 0,
   "metadata": {
    "colab": {},
    "colab_type": "code",
    "id": "7ufxJCvXiCcp"
   },
   "outputs": [],
   "source": [
    "edges = pd.read_csv('edges.csv')\n",
    "vertices = pd.read_csv('new_vertices.csv')\n"
   ]
  },
  {
   "cell_type": "code",
   "execution_count": 0,
   "metadata": {
    "colab": {},
    "colab_type": "code",
    "id": "_BXPYzHYsOUH"
   },
   "outputs": [],
   "source": [
    "ids = pd.read_csv('ids.csv')"
   ]
  },
  {
   "cell_type": "code",
   "execution_count": 0,
   "metadata": {
    "colab": {},
    "colab_type": "code",
    "id": "-pG7IRXCnz_n"
   },
   "outputs": [],
   "source": [
    "all_connections = pd.read_csv('all_connections')"
   ]
  },
  {
   "cell_type": "code",
   "execution_count": 0,
   "metadata": {
    "colab": {},
    "colab_type": "code",
    "id": "V2dtRA_xqR-l"
   },
   "outputs": [],
   "source": [
    "index = all_connections.id_1\n",
    "connections = all_connections.connection\n",
    "inc = dict(zip(index, map(eval, connections)))"
   ]
  },
  {
   "cell_type": "code",
   "execution_count": 0,
   "metadata": {
    "colab": {},
    "colab_type": "code",
    "id": "FKSjNncSjCpj"
   },
   "outputs": [],
   "source": [
    "from sklearn.linear_model import LogisticRegression"
   ]
  },
  {
   "cell_type": "code",
   "execution_count": 0,
   "metadata": {
    "colab": {},
    "colab_type": "code",
    "id": "aqApQkE4uVX4"
   },
   "outputs": [],
   "source": [
    "import xgboost as xgb"
   ]
  },
  {
   "cell_type": "code",
   "execution_count": 0,
   "metadata": {
    "colab": {},
    "colab_type": "code",
    "id": "ExeWxIFOugme"
   },
   "outputs": [],
   "source": [
    "import tqdm"
   ]
  },
  {
   "cell_type": "code",
   "execution_count": 0,
   "metadata": {
    "colab": {
     "base_uri": "https://localhost:8080/",
     "height": 32
    },
    "colab_type": "code",
    "id": "GlIqHN3wjJL9",
    "outputId": "da08c0c3-86d1-48ee-b56b-f458912cbf50"
   },
   "outputs": [
    {
     "name": "stderr",
     "output_type": "stream",
     "text": [
      "100%|██████████| 100/100 [13:18<00:00,  7.99s/it]\n"
     ]
    }
   ],
   "source": [
    "res = np.zeros((100, 1534749))\n",
    "for i in tqdm.tqdm(range(100)):\n",
    "  indexes = edges[(edges['id_1']==ids.id.iloc[i])|(edges['id_2']==ids.id.iloc[i])].index\n",
    "  right = pd.Series(np.zeros(len(vertices)))\n",
    "  right[pd.Series(inc[ids.id.iloc[i]])-1] = 1\n",
    "  table = pd.DataFrame({'cbp': cbp[i], 'gp':gp[i], 'mep': mep[i], 'target': right})\n",
    "  train = table.drop(columns='target')\n",
    "  target = table['target']\n",
    "  w = table[table.target==0].target.count()/table[table.target==1].target.count()\n",
    "  param_dist = {'max_depth':6, 'n_estimators':500, 'n_jobs':-1, 'random_state': 42, 'lambda': 0.2, 'scale_pos_weight':w}\n",
    "  clf = xgb.XGBClassifier(**param_dist,tree_method='gpu_hist', gpu_id=0)\n",
    "\n",
    "  \n",
    "  # clf = LogisticRegression(random_state=42, solver = 'liblinear')\n",
    "  clf.fit(train, target)\n",
    "  q = clf.predict_proba(train)\n",
    "  res[i] = q[:, 1]"
   ]
  },
  {
   "cell_type": "code",
   "execution_count": 0,
   "metadata": {
    "colab": {},
    "colab_type": "code",
    "id": "K4nguXGlkogG"
   },
   "outputs": [],
   "source": [
    "np.save('xgb65.npy', res, allow_pickle=True)"
   ]
  },
  {
   "cell_type": "code",
   "execution_count": 0,
   "metadata": {
    "colab": {},
    "colab_type": "code",
    "id": "BwSxvOMXls9u"
   },
   "outputs": [],
   "source": []
  },
  {
   "cell_type": "code",
   "execution_count": 0,
   "metadata": {
    "colab": {},
    "colab_type": "code",
    "id": "6M8N62hAl-Pb"
   },
   "outputs": [],
   "source": []
  },
  {
   "cell_type": "code",
   "execution_count": 0,
   "metadata": {
    "colab": {},
    "colab_type": "code",
    "id": "GQAgDlgpml6n"
   },
   "outputs": [],
   "source": []
  },
  {
   "cell_type": "code",
   "execution_count": 0,
   "metadata": {
    "colab": {},
    "colab_type": "code",
    "id": "4l0aKHLknbic"
   },
   "outputs": [],
   "source": []
  },
  {
   "cell_type": "code",
   "execution_count": 0,
   "metadata": {
    "colab": {},
    "colab_type": "code",
    "id": "6HGlqp19nmBZ"
   },
   "outputs": [],
   "source": []
  },
  {
   "cell_type": "code",
   "execution_count": 0,
   "metadata": {
    "colab": {},
    "colab_type": "code",
    "id": "iMUARC_yntKp"
   },
   "outputs": [],
   "source": []
  },
  {
   "cell_type": "code",
   "execution_count": 0,
   "metadata": {
    "colab": {},
    "colab_type": "code",
    "id": "74CdaVVwpJZz"
   },
   "outputs": [],
   "source": []
  }
 ],
 "metadata": {
  "accelerator": "GPU",
  "colab": {
   "collapsed_sections": [],
   "name": "ensemble.ipynb",
   "provenance": []
  },
  "kernelspec": {
   "display_name": "Python 3",
   "language": "python",
   "name": "python3"
  },
  "language_info": {
   "codemirror_mode": {
    "name": "ipython",
    "version": 3
   },
   "file_extension": ".py",
   "mimetype": "text/x-python",
   "name": "python",
   "nbconvert_exporter": "python",
   "pygments_lexer": "ipython3",
   "version": "3.7.2"
  }
 },
 "nbformat": 4,
 "nbformat_minor": 1
}
